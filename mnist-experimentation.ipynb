{
 "cells": [
  {
   "cell_type": "code",
   "execution_count": 1,
   "metadata": {},
   "outputs": [],
   "source": [
    "import numpy as np\n",
    "import matplotlib.pyplot as plt\n",
    "# import logging\n",
    "# from argparse import ArgumentParser\n",
    "from sklearn.metrics.pairwise import cosine_similarity\n",
    "from sklearn.metrics import accuracy_score"
   ]
  },
  {
   "cell_type": "code",
   "execution_count": 45,
   "metadata": {},
   "outputs": [],
   "source": [
    "from chaosnet import *"
   ]
  },
  {
   "cell_type": "code",
   "execution_count": 70,
   "metadata": {},
   "outputs": [],
   "source": [
    "data =  np.genfromtxt(r\"C:\\Users\\shiva\\chaos dyn\\train.csv\",delimiter=',',skip_header=1)"
   ]
  },
  {
   "cell_type": "code",
   "execution_count": 101,
   "metadata": {},
   "outputs": [],
   "source": [
    "data = np.nan_to_num(data)"
   ]
  },
  {
   "cell_type": "code",
   "execution_count": 133,
   "metadata": {},
   "outputs": [],
   "source": [
    "y_train = data[:4000,0].astype('int')\n",
    "X_train = data[:4000,1:].astype('float')\n",
    "y_test = data[4000:5000,0].astype('int')\n",
    "X_test = data[4000:5000,1:].astype('float')"
   ]
  },
  {
   "cell_type": "markdown",
   "metadata": {},
   "source": [
    "# Hyperparamaters"
   ]
  },
  {
   "cell_type": "code",
   "execution_count": 134,
   "metadata": {},
   "outputs": [],
   "source": [
    "a = 0.0\n",
    "c = 1.0\n",
    "b = 0.331 # Found by hyperparametertuning \n",
    "q = 0.336\n",
    "length = 20000\n",
    "num_classes = 10\n",
    "samples_per_class = 21\n",
    "check = \"Sk-B\"\n",
    "details = \"full\"\n",
    "var = 42\n",
    "method = \"TT-SS\" # or TT\n",
    "epsilon = 0.01"
   ]
  },
  {
   "cell_type": "code",
   "execution_count": 135,
   "metadata": {},
   "outputs": [
    {
     "data": {
      "image/png": "[encoded data removed]",
      "text/plain": [
       "<Figure size 432x288 with 1 Axes>"
      ]
     },
     "metadata": {
      "needs_background": "light"
     },
     "output_type": "display_data"
    }
   ],
   "source": [
    "plt.imshow(X_train[1].reshape(28,28));"
   ]
  },
  {
   "cell_type": "code",
   "execution_count": 136,
   "metadata": {},
   "outputs": [],
   "source": [
    "X_train = normalize_data(X_train)\n",
    "X_test = normalize_data(X_test)"
   ]
  },
  {
   "cell_type": "markdown",
   "metadata": {},
   "source": [
    "# 1-Layer Network"
   ]
  },
  {
   "cell_type": "code",
   "execution_count": 137,
   "metadata": {},
   "outputs": [],
   "source": [
    "timeseries = iterations(q,a,b,c,length,check)\n",
    "train_proba = probability_calculation(X_train,timeseries,b,epsilon)\n",
    "test_proba = probability_calculation(X_test,timeseries,b,epsilon)"
   ]
  },
  {
   "cell_type": "code",
   "execution_count": 138,
   "metadata": {},
   "outputs": [],
   "source": [
    "num_features = X_train.shape[1]\n",
    "avg_class_dist = np.zeros((num_classes,num_features))"
   ]
  },
  {
   "cell_type": "code",
   "execution_count": 139,
   "metadata": {},
   "outputs": [],
   "source": [
    "for n_cl in range(0, num_classes):\n",
    "        avg_class_dist[n_cl,:] = class_avg_distance(train_proba, y_train, lab = n_cl)"
   ]
  },
  {
   "cell_type": "code",
   "execution_count": 140,
   "metadata": {},
   "outputs": [
    {
     "name": "stdout",
     "output_type": "stream",
     "text": [
      "accuracy\n",
      "58.200\n",
      "precision\n",
      "0.630\n",
      "recall\n",
      "0.578\n",
      "f1score\n",
      "0.592\n",
      "Confusion matrix\n",
      " [[56  0  0  1  1 18 10  4  0  4]\n",
      " [ 0 91  1  2  0 11  0  1  3  3]\n",
      " [ 1  5 63  4  5 15  7  1  6  8]\n",
      " [ 1  3  1 62  1 22  0  2 13  5]\n",
      " [ 0  1  2  1 51  7  3  2  2 20]\n",
      " [ 6  1  0 16  1 44  4  1  7 10]\n",
      " [ 3  3  3  4  4 17 62  0  1  6]\n",
      " [ 0  3  1  1  4 18  1 56  0 13]\n",
      " [ 0  4  4 16  2 15  2  0 47  4]\n",
      " [ 0  5  0  1 17 12  0  8  3 50]]\n"
     ]
    }
   ],
   "source": [
    "y_pred_val = cosine_similar_measure(test_proba, y_test,a,b,c,avg_class_dist)"
   ]
  },
  {
   "cell_type": "markdown",
   "metadata": {},
   "source": [
    "# 2-Layer Network"
   ]
  },
  {
   "cell_type": "code",
   "execution_count": 141,
   "metadata": {},
   "outputs": [],
   "source": [
    "q2 = 0.56\n",
    "coeff0 = 0.999/2.0\n",
    "coeff1 = 0.999/2.0\n",
    "coeff2 = 1 - (coeff0 + coeff1)/2"
   ]
  },
  {
   "cell_type": "code",
   "execution_count": 142,
   "metadata": {},
   "outputs": [
    {
     "name": "stdout",
     "output_type": "stream",
     "text": [
      "even number of features in the dataset\n"
     ]
    }
   ],
   "source": [
    "timeseries = iterations(q, a, b, c, length, check )\n",
    "layer_2_mat = chaos_second_layer(X_train, y_train, q, a, b, c, length, check, timeseries, epsilon, q2, coeff0, coeff1, coeff2 )\n",
    "train_proba = probability_calculation(layer_2_mat, timeseries, b, epsilon)\n"
   ]
  },
  {
   "cell_type": "code",
   "execution_count": 143,
   "metadata": {},
   "outputs": [
    {
     "name": "stdout",
     "output_type": "stream",
     "text": [
      "even number of features in the dataset\n"
     ]
    }
   ],
   "source": [
    "layer_2_mat_test = chaos_second_layer(X_test, y_test, q, a, b, c, length, check, timeseries, epsilon, q2, coeff0, coeff1, coeff2 )\n",
    "test_proba = probability_calculation(layer_2_mat_test, timeseries, b, epsilon)"
   ]
  },
  {
   "cell_type": "code",
   "execution_count": 144,
   "metadata": {},
   "outputs": [],
   "source": [
    "num_features = X_train.shape[1]\n",
    "avg_class_dist = np.zeros((num_classes,layer_2_mat.shape[1]))"
   ]
  },
  {
   "cell_type": "code",
   "execution_count": 145,
   "metadata": {},
   "outputs": [],
   "source": [
    "for n_cl in range(0, num_classes):\n",
    "    avg_class_dist[n_cl,:] = class_avg_distance(train_proba, y_train, lab = n_cl)"
   ]
  },
  {
   "cell_type": "code",
   "execution_count": 146,
   "metadata": {},
   "outputs": [
    {
     "name": "stdout",
     "output_type": "stream",
     "text": [
      "accuracy\n",
      "73.600\n",
      "precision\n",
      "0.748\n",
      "recall\n",
      "0.732\n",
      "f1score\n",
      "0.735\n",
      "Confusion matrix\n",
      " [[ 70   1   1   0   0  17   5   0   0   0]\n",
      " [  0 105   0   1   0   4   0   0   2   0]\n",
      " [  1   5  87   7   5   4   2   2   2   0]\n",
      " [  1   2   1  75   1  10   2   2  11   5]\n",
      " [  0   1   2   1  71   2   0   0   0  12]\n",
      " [  0   6   0  19   2  49   2   0   6   6]\n",
      " [  0   5   1   0   8   7  80   0   0   2]\n",
      " [  0   9   0   0   1   0   0  75   1  11]\n",
      " [  0   4   3  11   2   5   2   1  62   4]\n",
      " [  0   8   0   2   8   3   0   7   6  62]]\n"
     ]
    }
   ],
   "source": [
    "y_pred_val = cosine_similar_measure(test_proba, y_test,a,b,c,avg_class_dist)"
   ]
  },
  {
   "cell_type": "code",
   "execution_count": null,
   "metadata": {},
   "outputs": [],
   "source": []
  }
 ],
 "metadata": {
  "interpreter": {
   "hash": "37a27d0e5b469d6519fba8d674fca678a9e423d1818ec628dd8efc12286d08bf"
  },
  "kernelspec": {
   "display_name": "Python 3.10.4 64-bit",
   "language": "python",
   "name": "python3"
  },
  "language_info": {
   "codemirror_mode": {
    "name": "ipython",
    "version": 3
   },
   "file_extension": ".py",
   "mimetype": "text/x-python",
   "name": "python",
   "nbconvert_exporter": "python",
   "pygments_lexer": "ipython3",
   "version": "3.10.4"
  },
  "orig_nbformat": 4
 },
 "nbformat": 4,
 "nbformat_minor": 2
}
